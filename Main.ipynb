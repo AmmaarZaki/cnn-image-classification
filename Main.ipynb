{
 "cells": [
  {
   "cell_type": "code",
   "execution_count": 1,
   "id": "f0fd7b98-5cbc-4d86-8dea-7f8a848c3973",
   "metadata": {},
   "outputs": [],
   "source": [
    "import numpy as np\n",
    "from PIL import Image\n",
    "\n",
    "import torch\n",
    "import torch.nn as nn\n",
    "import torch.nn.functional as F\n",
    "import torch.optim as optim\n",
    "\n",
    "import torchvision\n",
    "import torchvision.transforms as transforms"
   ]
  },
  {
   "cell_type": "code",
   "execution_count": 2,
   "id": "a0976380-7cde-41b7-947c-f9ffdce06e1a",
   "metadata": {},
   "outputs": [],
   "source": [
    "transform = transforms.Compose([\n",
    "    transforms.ToTensor(),\n",
    "    transforms.Normalize((0.5, 0.5, 0.5), (0.5, 0.5, 0.5))\n",
    "])"
   ]
  },
  {
   "cell_type": "code",
   "execution_count": 14,
   "id": "5487a9a7-6775-4dd0-9c93-eaafade3377b",
   "metadata": {},
   "outputs": [
    {
     "name": "stderr",
     "output_type": "stream",
     "text": [
      "100.0%\n"
     ]
    }
   ],
   "source": [
    "train_data = torchvision.datasets.CIFAR10(root='./data', train=True, transform=transform, download=True)\n",
    "test_data = torchvision.datasets.CIFAR10(root='./data', train=False, transform=transform, download=True)\n",
    "\n",
    "train_loader = torch.utils.data.DataLoader(train_data, batch_size=32, shuffle=True, num_workers=2)\n",
    "test_loader = torch.utils.data.DataLoader(test_data, batch_size=32, shuffle=True, num_workers=2)"
   ]
  },
  {
   "cell_type": "code",
   "execution_count": 4,
   "id": "65b65470-8e52-4820-a334-e1d2b992c513",
   "metadata": {},
   "outputs": [],
   "source": [
    "image, label = train_data[0]"
   ]
  },
  {
   "cell_type": "code",
   "execution_count": 5,
   "id": "b3212065-0e55-4b1f-b347-cd792848bca0",
   "metadata": {},
   "outputs": [
    {
     "data": {
      "text/plain": [
       "torch.Size([3, 32, 32])"
      ]
     },
     "execution_count": 5,
     "metadata": {},
     "output_type": "execute_result"
    }
   ],
   "source": [
    "image.size()"
   ]
  },
  {
   "cell_type": "code",
   "execution_count": 6,
   "id": "d7ff5577-5cbd-417f-bb79-65df34b032ae",
   "metadata": {},
   "outputs": [],
   "source": [
    "class_names = ['airplane', 'automobile', 'bird', 'cat', 'deer', 'dog', 'frog', 'horse', 'ship', 'truck']"
   ]
  },
  {
   "cell_type": "code",
   "execution_count": 7,
   "id": "8df47b64-4b83-4e78-aeba-397ebf69c516",
   "metadata": {},
   "outputs": [],
   "source": [
    "class NeuralNet(nn.Module):\n",
    "\n",
    "    def __init__(self):\n",
    "        super().__init__()\n",
    "\n",
    "        self.conv1 = nn.Conv2d(3, 12, 5)\n",
    "        self.pool = nn.MaxPool2d(2, 2)\n",
    "        self.conv2 = nn.Conv2d(12, 24, 5)\n",
    "        self.fc1 = nn.Linear(24 * 5 * 5, 120)\n",
    "        self.fc2 = nn.Linear(120, 84)\n",
    "        self.fc3 = nn.Linear(84, 10)\n",
    "\n",
    "    def forward (self, x):\n",
    "        x = self.pool(F.relu(self.conv1(x)))\n",
    "        x = self.pool(F.relu(self.conv2(x)))\n",
    "        x = torch.flatten(x, 1)\n",
    "        x = F.relu(self.fc1(x))\n",
    "        x = F.relu(self.fc2(x))\n",
    "        x = self.fc3(x)\n",
    "\n",
    "        return x"
   ]
  },
  {
   "cell_type": "code",
   "execution_count": 8,
   "id": "d1e2fd71-c175-4098-8b8f-c1c35e66004c",
   "metadata": {},
   "outputs": [],
   "source": [
    "net = NeuralNet()\n",
    "loss_function = nn.CrossEntropyLoss()\n",
    "optimizer = optim.SGD(net.parameters(), lr=0.001, momentum=0.9)"
   ]
  },
  {
   "cell_type": "code",
   "execution_count": 9,
   "id": "5de0aa59-0abc-4148-aeab-cd1548cee274",
   "metadata": {},
   "outputs": [
    {
     "name": "stdout",
     "output_type": "stream",
     "text": [
      "Training epoch 0...\n",
      "Loss: 2.2231\n",
      "Training epoch 1...\n",
      "Loss: 1.7571\n",
      "Training epoch 2...\n",
      "Loss: 1.5415\n",
      "Training epoch 3...\n",
      "Loss: 1.4249\n",
      "Training epoch 4...\n",
      "Loss: 1.3281\n",
      "Training epoch 5...\n",
      "Loss: 1.2401\n",
      "Training epoch 6...\n",
      "Loss: 1.1640\n",
      "Training epoch 7...\n",
      "Loss: 1.1080\n",
      "Training epoch 8...\n",
      "Loss: 1.0543\n",
      "Training epoch 9...\n",
      "Loss: 1.0125\n",
      "Training epoch 10...\n",
      "Loss: 0.9751\n",
      "Training epoch 11...\n",
      "Loss: 0.9353\n",
      "Training epoch 12...\n",
      "Loss: 0.9046\n",
      "Training epoch 13...\n",
      "Loss: 0.8677\n",
      "Training epoch 14...\n",
      "Loss: 0.8371\n",
      "Training epoch 15...\n",
      "Loss: 0.8078\n",
      "Training epoch 16...\n",
      "Loss: 0.7807\n",
      "Training epoch 17...\n",
      "Loss: 0.7522\n",
      "Training epoch 18...\n",
      "Loss: 0.7243\n",
      "Training epoch 19...\n",
      "Loss: 0.7048\n",
      "Training epoch 20...\n",
      "Loss: 0.6770\n",
      "Training epoch 21...\n",
      "Loss: 0.6536\n",
      "Training epoch 22...\n",
      "Loss: 0.6340\n",
      "Training epoch 23...\n",
      "Loss: 0.6101\n",
      "Training epoch 24...\n",
      "Loss: 0.5903\n",
      "Training epoch 25...\n",
      "Loss: 0.5662\n",
      "Training epoch 26...\n",
      "Loss: 0.5468\n",
      "Training epoch 27...\n",
      "Loss: 0.5281\n",
      "Training epoch 28...\n",
      "Loss: 0.5073\n",
      "Training epoch 29...\n",
      "Loss: 0.4891\n",
      "Training epoch 30...\n",
      "Loss: 0.4729\n",
      "Training epoch 31...\n",
      "Loss: 0.4535\n",
      "Training epoch 32...\n",
      "Loss: 0.4387\n",
      "Training epoch 33...\n",
      "Loss: 0.4154\n",
      "Training epoch 34...\n",
      "Loss: 0.4032\n",
      "Training epoch 35...\n",
      "Loss: 0.3809\n",
      "Training epoch 36...\n",
      "Loss: 0.3645\n",
      "Training epoch 37...\n",
      "Loss: 0.3499\n",
      "Training epoch 38...\n",
      "Loss: 0.3321\n",
      "Training epoch 39...\n",
      "Loss: 0.3234\n",
      "Training epoch 40...\n",
      "Loss: 0.3011\n",
      "Training epoch 41...\n",
      "Loss: 0.2913\n",
      "Training epoch 42...\n",
      "Loss: 0.2694\n",
      "Training epoch 43...\n",
      "Loss: 0.2627\n",
      "Training epoch 44...\n",
      "Loss: 0.2517\n",
      "Training epoch 45...\n",
      "Loss: 0.2401\n",
      "Training epoch 46...\n",
      "Loss: 0.2358\n",
      "Training epoch 47...\n",
      "Loss: 0.2268\n",
      "Training epoch 48...\n",
      "Loss: 0.2056\n",
      "Training epoch 49...\n",
      "Loss: 0.1955\n"
     ]
    }
   ],
   "source": [
    "for epoch in range(50):\n",
    "    print(f'Training epoch {epoch}...')\n",
    "\n",
    "    running_loss = 0.0\n",
    "\n",
    "    for i, data in enumerate(train_loader):\n",
    "        inputs, labels = data\n",
    "        optimizer.zero_grad()\n",
    "        outputs = net(inputs)\n",
    "        loss = loss_function(outputs, labels)\n",
    "        loss.backward()\n",
    "        optimizer.step()\n",
    "        running_loss += loss.item()\n",
    "\n",
    "    print(f'Loss: {running_loss / len(train_loader):.4f}')"
   ]
  },
  {
   "cell_type": "code",
   "execution_count": 10,
   "id": "e9b43600-d224-4d7d-9117-020ef055d837",
   "metadata": {},
   "outputs": [],
   "source": [
    "torch.save(net.state_dict(), 'CNN-Image-Classification-Trained.pth')"
   ]
  },
  {
   "cell_type": "code",
   "execution_count": 11,
   "id": "7f32de41-3eef-40d0-b4c8-6bf33e102c95",
   "metadata": {},
   "outputs": [
    {
     "data": {
      "text/plain": [
       "<All keys matched successfully>"
      ]
     },
     "execution_count": 11,
     "metadata": {},
     "output_type": "execute_result"
    }
   ],
   "source": [
    "net = NeuralNet()\n",
    "net.load_state_dict(torch.load('CNN-Image-Classification-Trained.pth'))"
   ]
  },
  {
   "cell_type": "code",
   "execution_count": 12,
   "id": "42d005b3-8949-4778-a364-64bcb43b5bb1",
   "metadata": {},
   "outputs": [
    {
     "name": "stdout",
     "output_type": "stream",
     "text": [
      "Accuracy: 66.8%\n"
     ]
    }
   ],
   "source": [
    "correct = 0\n",
    "total = 0\n",
    "\n",
    "net.eval()\n",
    "\n",
    "with torch.no_grad():\n",
    "    for data in test_loader:\n",
    "        images, labels = data\n",
    "        outputs = net(images)\n",
    "        _, predicted = torch.max(outputs, 1)\n",
    "        total += labels.size(0)\n",
    "        correct += (predicted == labels).sum().item()\n",
    "\n",
    "accuracy = 100 * correct / total\n",
    "print(f'Accuracy: {accuracy}%')"
   ]
  },
  {
   "cell_type": "code",
   "execution_count": 13,
   "id": "63ba3904-72a5-4a9c-906f-eddb30e99f84",
   "metadata": {},
   "outputs": [
    {
     "name": "stdout",
     "output_type": "stream",
     "text": [
      "Prediction: automobile\n",
      "Prediction: frog\n",
      "Prediction: horse\n"
     ]
    }
   ],
   "source": [
    "new_transform = transforms.Compose([\n",
    "    transforms.Resize((32, 32)),\n",
    "    transforms.ToTensor(),\n",
    "    transforms.Normalize((0.5, 0.5, 0.5), (0.5, 0.5, 0.5))\n",
    "])\n",
    "\n",
    "def load_image(image_path):\n",
    "    image = Image.open(image_path)\n",
    "    image = new_transform(image)\n",
    "    image = image.unsqueeze(0)\n",
    "    return image\n",
    "\n",
    "image_paths = ['test1.jpg', 'test2.jpg', 'test3.jpg']\n",
    "images = [load_image(img) for img in image_paths]\n",
    "\n",
    "net.eval()\n",
    "with torch.no_grad():\n",
    "    for image in images:\n",
    "        output = net(image)\n",
    "        _, predicted = torch.max(output, 1)\n",
    "        print(f'Prediction: {class_names[predicted.item()]}')"
   ]
  },
  {
   "cell_type": "code",
   "execution_count": null,
   "id": "4526c923-9412-41a8-8b15-18cf67dff1d7",
   "metadata": {},
   "outputs": [],
   "source": []
  }
 ],
 "metadata": {
  "kernelspec": {
   "display_name": "Python 3 (ipykernel)",
   "language": "python",
   "name": "python3"
  },
  "language_info": {
   "codemirror_mode": {
    "name": "ipython",
    "version": 3
   },
   "file_extension": ".py",
   "mimetype": "text/x-python",
   "name": "python",
   "nbconvert_exporter": "python",
   "pygments_lexer": "ipython3",
   "version": "3.13.2"
  }
 },
 "nbformat": 4,
 "nbformat_minor": 5
}
